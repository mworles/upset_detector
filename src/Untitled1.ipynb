{
 "cells": [
  {
   "cell_type": "code",
   "execution_count": 1,
   "metadata": {},
   "outputs": [],
   "source": [
    "from data import Transfer, Updater, Clean\n",
    "from data import queries\n",
    "import pandas as pd\n",
    "import numpy as np\n",
    "import pickle\n",
    "import Constants\n",
    "datdir = Constants.DATA\n",
    "import datetime"
   ]
  },
  {
   "cell_type": "code",
   "execution_count": 2,
   "metadata": {},
   "outputs": [],
   "source": [
    "o = Transfer.return_data('odds_clean')\n",
    "o = o.dropna(subset=['t1_odds', 't2_odds'], how='all')"
   ]
  },
  {
   "cell_type": "code",
   "execution_count": 3,
   "metadata": {},
   "outputs": [],
   "source": [
    "mat = Transfer.return_data('matchups')"
   ]
  },
  {
   "cell_type": "code",
   "execution_count": 5,
   "metadata": {},
   "outputs": [],
   "source": [
    "mat_need = mat[~mat['game_id'].isin(o['game_id'].values)]\n",
    "mat_need = mat_need[['season', 'game_id', 't1_team_id', 't2_team_id', 'date']]\n",
    "mat_need = mat_need[mat_need['season'] >= 2009]\n",
    "# replace year in date with season\n",
    "mat_need['gid_sub'] = mat_need['game_id'].apply(lambda x: x[-10:])\n",
    "mat_need['gid_sub'] = mat_need['season'].astype(int).astype(str) + mat_need['gid_sub']"
   ]
  },
  {
   "cell_type": "code",
   "execution_count": 28,
   "metadata": {},
   "outputs": [],
   "source": [
    "# get season minimum date\n",
    "mat_need['smin'] = mat_need.groupby('season')['date'].transform('min')"
   ]
  },
  {
   "cell_type": "code",
   "execution_count": 31,
   "metadata": {},
   "outputs": [],
   "source": [
    "smin = mat_need[['season', 'smin']].drop_duplicates()"
   ]
  },
  {
   "cell_type": "code",
   "execution_count": 38,
   "metadata": {},
   "outputs": [],
   "source": [
    "# identify odds game id not in matchups\n",
    "onot = o[~o['game_id'].isin(mat['game_id'].values)].copy()"
   ]
  },
  {
   "cell_type": "code",
   "execution_count": 39,
   "metadata": {},
   "outputs": [],
   "source": [
    "onot = pd.merge(onot, smin, how='inner', left_on='season', right_on='season')\n",
    "onot = onot[onot['date'] >= onot['smin']]"
   ]
  },
  {
   "cell_type": "code",
   "execution_count": 40,
   "metadata": {},
   "outputs": [
    {
     "name": "stdout",
     "output_type": "stream",
     "text": [
      "(22615, 8)\n"
     ]
    }
   ],
   "source": [
    "print onot.shape"
   ]
  },
  {
   "cell_type": "code",
   "execution_count": 41,
   "metadata": {},
   "outputs": [],
   "source": [
    "onot['gid_sub'] = onot['game_id'].apply(lambda x: x[-10:])\n",
    "onot['gid_sub'] = onot['season'].astype(int).astype(str) + onot['gid_sub']"
   ]
  },
  {
   "cell_type": "code",
   "execution_count": 42,
   "metadata": {},
   "outputs": [],
   "source": [
    "onsd = {}\n",
    "\n",
    "ons = onot[['gid_sub', 'date']].set_index('gid_sub')\n",
    "for index, row in ons.iterrows():\n",
    "    if index in onsd.keys():\n",
    "        onsd[index].append(row['date'])\n",
    "    else:\n",
    "        onsd[index] = [row['date']]"
   ]
  },
  {
   "cell_type": "code",
   "execution_count": 43,
   "metadata": {},
   "outputs": [],
   "source": [
    "mt = mat_need[mat_need['gid_sub'].isin(onsd.keys())].copy()"
   ]
  },
  {
   "cell_type": "code",
   "execution_count": 44,
   "metadata": {},
   "outputs": [],
   "source": [
    "def to_datetime(x):\n",
    "    dt = datetime.datetime.strptime(x, \"%Y/%m/%d\")\n",
    "    return dt\n",
    "\n",
    "def from_datetime(x):\n",
    "    date = x.strftime(\"%Y/%m/%d\")\n",
    "    return date\n",
    "    \n",
    "def get_date(date_gid, odds_dict):\n",
    "    game_date = date_gid[0]\n",
    "    game_dt = to_datetime(game_date)\n",
    "    after = game_dt + datetime.timedelta(days=1)\n",
    "    before = game_dt - datetime.timedelta(days=1)\n",
    "    valid = [from_datetime(after), from_datetime(before)]\n",
    "    \n",
    "    odds_dates = odds_dict[date_gid[1]]\n",
    "      \n",
    "    if len(odds_dates) == 1:\n",
    "        \n",
    "        odds_date = odds_dates[0]\n",
    "       \n",
    "        if odds_date in valid:\n",
    "            result = odds_date\n",
    "       \n",
    "        else:\n",
    "            result = None\n",
    "\n",
    "    else:\n",
    "        keep = list(set(odds_dates) & set(valid))\n",
    "        \n",
    "        if len(keep) == 1:\n",
    "            result =  keep[0]\n",
    "        \n",
    "        elif len(keep) > 1:\n",
    "            print \"multiple matches\"\n",
    "            result = None\n",
    "        \n",
    "        else:\n",
    "            result = None\n",
    "  \n",
    "    return result"
   ]
  },
  {
   "cell_type": "code",
   "execution_count": 45,
   "metadata": {},
   "outputs": [
    {
     "name": "stdout",
     "output_type": "stream",
     "text": [
      "multiple matches\n",
      "multiple matches\n",
      "multiple matches\n"
     ]
    }
   ],
   "source": [
    "mat_search = zip(mt['date'].values, mt['gid_sub'].values)\n",
    "best_dates = map(lambda x: get_date(x, onsd), mat_search)"
   ]
  },
  {
   "cell_type": "code",
   "execution_count": 46,
   "metadata": {},
   "outputs": [],
   "source": [
    "mt['date_odds'] = best_dates"
   ]
  },
  {
   "cell_type": "code",
   "execution_count": 47,
   "metadata": {},
   "outputs": [
    {
     "name": "stdout",
     "output_type": "stream",
     "text": [
      "(22112, 9)\n"
     ]
    }
   ],
   "source": [
    "print mt[mt['date_odds'].notnull()].shape"
   ]
  },
  {
   "cell_type": "code",
   "execution_count": 48,
   "metadata": {},
   "outputs": [
    {
     "name": "stdout",
     "output_type": "stream",
     "text": [
      "(24480, 9)\n"
     ]
    }
   ],
   "source": [
    "print mt.shape"
   ]
  },
  {
   "cell_type": "code",
   "execution_count": 49,
   "metadata": {},
   "outputs": [],
   "source": [
    "mt['dog'] = mt['date_odds'].str.replace('/', '_')\n",
    "mt['odds_gid'] = mt['dog'] + mt['gid_sub'].apply(lambda x: x[-10:])"
   ]
  },
  {
   "cell_type": "code",
   "execution_count": 50,
   "metadata": {},
   "outputs": [],
   "source": [
    "onm = onot[['game_id', 't1_odds', 't2_odds']]\n",
    "onm = onm.rename(columns={'game_id': 'odds_gid'})"
   ]
  },
  {
   "cell_type": "code",
   "execution_count": 51,
   "metadata": {},
   "outputs": [],
   "source": [
    "mrg = pd.merge(mt, onm, how='left', left_on='odds_gid', right_on='odds_gid')"
   ]
  },
  {
   "cell_type": "code",
   "execution_count": 52,
   "metadata": {},
   "outputs": [],
   "source": [
    "ow = onot[~onot['game_id'].isin(mrg['odds_gid'].values)]"
   ]
  },
  {
   "cell_type": "code",
   "execution_count": 53,
   "metadata": {},
   "outputs": [
    {
     "name": "stdout",
     "output_type": "stream",
     "text": [
      "Index([u'game_id', u'date', u'season', u't1_team_id', u't2_team_id',\n",
      "       u't1_odds', u't2_odds', u'smin', u'gid_sub'],\n",
      "      dtype='object')\n"
     ]
    }
   ],
   "source": [
    "print ow.columns"
   ]
  },
  {
   "cell_type": "code",
   "execution_count": 54,
   "metadata": {},
   "outputs": [
    {
     "name": "stderr",
     "output_type": "stream",
     "text": [
      "C:\\Users\\mworley\\Anaconda2\\lib\\site-packages\\ipykernel_launcher.py:1: SettingWithCopyWarning: \n",
      "A value is trying to be set on a copy of a slice from a DataFrame.\n",
      "Try using .loc[row_indexer,col_indexer] = value instead\n",
      "\n",
      "See the caveats in the documentation: http://pandas.pydata.org/pandas-docs/stable/indexing.html#indexing-view-versus-copy\n",
      "  \"\"\"Entry point for launching an IPython kernel.\n"
     ]
    }
   ],
   "source": [
    "ow['month'] = ow['date'].apply(lambda x: x.split('/')[1])"
   ]
  },
  {
   "cell_type": "code",
   "execution_count": 55,
   "metadata": {},
   "outputs": [
    {
     "data": {
      "text/plain": [
       "month\n",
       "01     23\n",
       "02     24\n",
       "03    291\n",
       "11     65\n",
       "12    100\n",
       "Name: date, dtype: int64"
      ]
     },
     "execution_count": 55,
     "metadata": {},
     "output_type": "execute_result"
    }
   ],
   "source": [
    "ow.groupby('month')['date'].count()"
   ]
  },
  {
   "cell_type": "code",
   "execution_count": 56,
   "metadata": {},
   "outputs": [],
   "source": [
    "mat_need['month'] = mat_need['date'].apply(lambda x: x.split('/')[1])"
   ]
  },
  {
   "cell_type": "code",
   "execution_count": 57,
   "metadata": {},
   "outputs": [
    {
     "data": {
      "text/plain": [
       "month\n",
       "01    12786\n",
       "02    12478\n",
       "03     5059\n",
       "04       22\n",
       "11      185\n",
       "12     7400\n",
       "Name: date, dtype: int64"
      ]
     },
     "execution_count": 57,
     "metadata": {},
     "output_type": "execute_result"
    }
   ],
   "source": [
    "mat_need.groupby('month')['date'].count()"
   ]
  },
  {
   "cell_type": "code",
   "execution_count": null,
   "metadata": {},
   "outputs": [],
   "source": []
  }
 ],
 "metadata": {
  "kernelspec": {
   "display_name": "Python 2",
   "language": "python",
   "name": "python2"
  },
  "language_info": {
   "codemirror_mode": {
    "name": "ipython",
    "version": 2
   },
   "file_extension": ".py",
   "mimetype": "text/x-python",
   "name": "python",
   "nbconvert_exporter": "python",
   "pygments_lexer": "ipython2",
   "version": "2.7.15"
  }
 },
 "nbformat": 4,
 "nbformat_minor": 2
}
